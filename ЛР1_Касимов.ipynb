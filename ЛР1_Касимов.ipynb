{
  "cells": [
    {
      "cell_type": "markdown",
      "metadata": {
        "colab_type": "text",
        "id": "view-in-github"
      },
      "source": [
        "<a href=\"https://colab.research.google.com/github/nserdyukov/AIPD/blob/main/%D0%9B%D0%A01_%D0%A1%D0%B5%D1%80%D0%B4%D1%8E%D0%BA%D0%BE%D0%B2.ipynb\" target=\"_parent\"><img src=\"https://colab.research.google.com/assets/colab-badge.svg\" alt=\"Open In Colab\"/></a>"
      ]
    },
    {
      "attachments": {
        "image.png": {
          "image/png": "[encoded data removed]"
        }
      },
      "cell_type": "markdown",
      "metadata": {
        "id": "_-ENZfiZlyUq"
      },
      "source": [
        "![image.png](attachment:image.png)"
      ]
    },
    {
      "cell_type": "code",
      "execution_count": 2,
      "metadata": {
        "colab": {
          "base_uri": "https://localhost:8080/"
        },
        "id": "Pico590sRs54",
        "outputId": "9ab51f9f-038d-4b70-adca-3c24cb0ffe9f"
      },
      "outputs": [
        {
          "name": "stdout",
          "output_type": "stream",
          "text": [
            "ФИО:  Касимов Асхаб Арсенович\n",
            "Группа:  ПИН-б-о-22-1, Прикладная информатика\n",
            "ЯП:  Python\n",
            "Хобби:  Спорт\n"
          ]
        }
      ],
      "source": [
        "ФИО=\"Касимов Асхаб Арсенович\"\n",
        "Группа=\"ПИН-б-о-22-1, Прикладная информатика\"\n",
        "ЯП=\"Python\"\n",
        "Хобби=\"Спорт\"\n",
        "print(\"ФИО: \", ФИО)\n",
        "print(\"Группа: \", Группа)\n",
        "print(\"ЯП: \", ЯП)\n",
        "print(\"Хобби: \", Хобби)"
      ]
    },
    {
      "cell_type": "code",
      "execution_count": null,
      "metadata": {
        "colab": {
          "base_uri": "https://localhost:8080/"
        },
        "id": "GRcewQyGh7dD",
        "outputId": "a52e9064-0a79-4a62-988b-fb90e473eea2"
      },
      "outputs": [
        {
          "name": "stdout",
          "output_type": "stream",
          "text": [
            "x =  12 , type(x) =  <class 'int'>\n",
            "X =  33 , type(X) =  <class 'int'>\n",
            "z =  50 , type(z) =  <class 'int'>\n",
            "Z =  10 , type(Z) =  <class 'int'>\n"
          ]
        }
      ],
      "source": [
        "Z=10\n",
        "z=50\n",
        "x=12\n",
        "X=33\n",
        "print(\"x = \", x, \", type(x) = \", type(x))\n",
        "print(\"X = \", X, \", type(X) = \", type(X))\n",
        "print(\"z = \", z, \", type(z) = \", type(z))\n",
        "print(\"Z = \", Z, \", type(Z) = \", type(Z))"
      ]
    },
    {
      "cell_type": "markdown",
      "metadata": {
        "id": "JCG1FflCrJRE"
      },
      "source": [
        "## Вычисление выражение, печать результатов"
      ]
    },
    {
      "cell_type": "markdown",
      "metadata": {
        "id": "9ky-Ji8ppVb9"
      },
      "source": [
        "Код для вычисления значения выражения $Y$:"
      ]
    },
    {
      "cell_type": "code",
      "execution_count": null,
      "metadata": {
        "colab": {
          "base_uri": "https://localhost:8080/"
        },
        "id": "v5SpmCokphuJ",
        "outputId": "71a9998c-1f09-4996-8657-9c9d2a8aa288"
      },
      "outputs": [
        {
          "name": "stdout",
          "output_type": "stream",
          "text": [
            "Y= 623.6666666666666\n",
            "Type of Y:  <class 'float'>\n"
          ]
        }
      ],
      "source": [
        "Y=Z*(z+x)+z/Z-(z+Z)/(x+X)\n",
        "print('Y=',Y)\n",
        "print('Type of Y: ', type(Y))"
      ]
    },
    {
      "cell_type": "markdown",
      "metadata": {
        "id": "QgydWXtBqRUl"
      },
      "source": [
        "Основные функции, используемые в данной практической работе: `print(), type(), abs()`"
      ]
    }
  ],
  "metadata": {
    "colab": {
      "include_colab_link": true,
      "provenance": []
    },
    "kernelspec": {
      "display_name": "Python 3",
      "name": "python3"
    },
    "language_info": {
      "codemirror_mode": {
        "name": "ipython",
        "version": 3
      },
      "file_extension": ".py",
      "mimetype": "text/x-python",
      "name": "python",
      "nbconvert_exporter": "python",
      "pygments_lexer": "ipython3",
      "version": "3.11.9"
    }
  },
  "nbformat": 4,
  "nbformat_minor": 0
}
